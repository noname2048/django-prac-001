{
 "cells": [
  {
   "cell_type": "code",
   "execution_count": 2,
   "id": "every-williams",
   "metadata": {},
   "outputs": [],
   "source": [
    "import os\n",
    "\n",
    "os.environ['DJANGO_SETTINGS_MODULE'] = 'askcompany.settings'\n",
    "os.environ['DJANGO_ALLOW_ASYNC_UNSAFE'] = 'true'\n",
    "\n",
    "import django\n",
    "django.setup()"
   ]
  },
  {
   "cell_type": "code",
   "execution_count": 5,
   "id": "unable-content",
   "metadata": {},
   "outputs": [],
   "source": [
    "from instagram.models import Post"
   ]
  },
  {
   "cell_type": "code",
   "execution_count": 6,
   "id": "moral-sydney",
   "metadata": {},
   "outputs": [],
   "source": [
    "qs = Post.objects.all()"
   ]
  },
  {
   "cell_type": "code",
   "execution_count": 8,
   "id": "fixed-monitor",
   "metadata": {},
   "outputs": [
    {
     "name": "stdout",
     "output_type": "stream",
     "text": [
      "<class 'django.db.models.query.QuerySet'>\n"
     ]
    }
   ],
   "source": [
    "print(type(qs))"
   ]
  },
  {
   "cell_type": "code",
   "execution_count": 9,
   "id": "resistant-client",
   "metadata": {},
   "outputs": [
    {
     "name": "stdout",
     "output_type": "stream",
     "text": [
      "SELECT \"instagram_post\".\"id\", \"instagram_post\".\"message\", \"instagram_post\".\"created_at\", \"instagram_post\".\"updated_at\", \"instagram_post\".\"is_public\", \"instagram_post\".\"photo\" FROM \"instagram_post\"\n"
     ]
    }
   ],
   "source": [
    "print(qs.query)"
   ]
  },
  {
   "cell_type": "code",
   "execution_count": 19,
   "id": "median-compromise",
   "metadata": {},
   "outputs": [
    {
     "name": "stdout",
     "output_type": "stream",
     "text": [
      "SELECT \"instagram_post\".\"id\", \"instagram_post\".\"message\", \"instagram_post\".\"created_at\", \"instagram_post\".\"updated_at\", \"instagram_post\".\"is_public\", \"instagram_post\".\"photo\" FROM \"instagram_post\" ORDER BY \"instagram_post\".\"id\" DESC LIMIT 2\n"
     ]
    },
    {
     "data": {
      "text/plain": [
       "<QuerySet [<Post: 3333333333>, <Post: 222222222>]>"
      ]
     },
     "execution_count": 19,
     "metadata": {},
     "output_type": "execute_result"
    }
   ],
   "source": [
    "qs = Post.objects.all().order_by('-id')[:2]\n",
    "print(qs.query)\n",
    "qs"
   ]
  },
  {
   "cell_type": "code",
   "execution_count": 24,
   "id": "local-association",
   "metadata": {
    "scrolled": true
   },
   "outputs": [
    {
     "name": "stdout",
     "output_type": "stream",
     "text": [
      "3333333333 2021-01-27 22:45:31.420631+00:00\n",
      "3 3333333333 2021-01-27 22:45:31.420631+00:00\n",
      "222222222 2021-01-27 22:45:29.998882+00:00\n",
      "2 222222222 2021-01-27 22:45:29.998882+00:00\n"
     ]
    }
   ],
   "source": [
    "for post in qs:\n",
    "    print(post.message, post.created_at)\n",
    "    # print(post__dict__)\n",
    "    print(\"{id} {message} {created_at}\".format(**post.__dict__))"
   ]
  },
  {
   "cell_type": "code",
   "execution_count": 25,
   "id": "optional-viking",
   "metadata": {},
   "outputs": [
    {
     "data": {
      "text/plain": [
       "{'_state': <django.db.models.base.ModelState at 0x7f3386a3ad60>,\n",
       " 'id': 2,\n",
       " 'message': '222222222',\n",
       " 'created_at': datetime.datetime(2021, 1, 27, 22, 45, 29, 998882, tzinfo=<UTC>),\n",
       " 'updated_at': datetime.datetime(2021, 1, 28, 13, 51, 58, 71172, tzinfo=<UTC>),\n",
       " 'is_public': True,\n",
       " 'photo': ''}"
      ]
     },
     "execution_count": 25,
     "metadata": {},
     "output_type": "execute_result"
    }
   ],
   "source": [
    "post.__dict__"
   ]
  },
  {
   "cell_type": "code",
   "execution_count": 28,
   "id": "advanced-canvas",
   "metadata": {},
   "outputs": [],
   "source": [
    "qs = Post.objects.all().filter(message='첫번째 메세지')\n",
    "qs = Post.objects.all().filter(message__icontains='첫번째 메세지')\n",
    "qs = Post.objects.all().filter(message__startswith='첫번째 메세지')"
   ]
  },
  {
   "cell_type": "code",
   "execution_count": 30,
   "id": "jewish-egypt",
   "metadata": {},
   "outputs": [],
   "source": [
    "query = '첫번째'"
   ]
  },
  {
   "cell_type": "code",
   "execution_count": 33,
   "id": "educational-excellence",
   "metadata": {},
   "outputs": [],
   "source": [
    "# qs = Post.ojects.all()\\\n",
    "#     .filter)message_icontain\n",
    "# 두가지 방법이 있다. \\로 처리. qs로 처리\n"
   ]
  },
  {
   "cell_type": "code",
   "execution_count": 34,
   "id": "wrapped-elimination",
   "metadata": {},
   "outputs": [],
   "source": [
    "from django.db.models import Q"
   ]
  },
  {
   "cell_type": "code",
   "execution_count": 35,
   "id": "sporting-sixth",
   "metadata": {},
   "outputs": [
    {
     "name": "stdout",
     "output_type": "stream",
     "text": [
      "SELECT \"instagram_post\".\"id\", \"instagram_post\".\"message\", \"instagram_post\".\"created_at\", \"instagram_post\".\"updated_at\", \"instagram_post\".\"is_public\", \"instagram_post\".\"photo\" FROM \"instagram_post\" WHERE (\"instagram_post\".\"id\" >= 2 AND \"instagram_post\".\"message\" LIKE %첫번째% ESCAPE '\\')\n"
     ]
    }
   ],
   "source": [
    "qs = Post.objects.all()\n",
    "qs = qs.filter(id__gte=2, message__icontains=query)\n",
    "print(qs.query)"
   ]
  },
  {
   "cell_type": "code",
   "execution_count": 39,
   "id": "separated-daniel",
   "metadata": {},
   "outputs": [
    {
     "name": "stdout",
     "output_type": "stream",
     "text": [
      "SELECT \"instagram_post\".\"id\", \"instagram_post\".\"message\", \"instagram_post\".\"created_at\", \"instagram_post\".\"updated_at\", \"instagram_post\".\"is_public\", \"instagram_post\".\"photo\" FROM \"instagram_post\" WHERE (\"instagram_post\".\"id\" >= 2 OR \"instagram_post\".\"message\" LIKE %첫번째% ESCAPE '\\')\n"
     ]
    }
   ],
   "source": [
    "qs = Post.objects.all()\n",
    "qs = qs.filter(Q(id__gte=2) | Q(message__icontains=query))\n",
    "print(qs.query)"
   ]
  },
  {
   "cell_type": "code",
   "execution_count": 2,
   "id": "baking-sitting",
   "metadata": {},
   "outputs": [],
   "source": [
    "from instagram.models import Post, Comment"
   ]
  },
  {
   "cell_type": "code",
   "execution_count": 5,
   "id": "funky-rabbit",
   "metadata": {},
   "outputs": [
    {
     "data": {
      "text/plain": [
       "<QuerySet [<Comment: Comment object (1)>, <Comment: Comment object (2)>, <Comment: Comment object (3)>, <Comment: Comment object (4)>]>"
      ]
     },
     "execution_count": 5,
     "metadata": {},
     "output_type": "execute_result"
    }
   ],
   "source": [
    "Comment.objects.all()"
   ]
  },
  {
   "cell_type": "code",
   "execution_count": 7,
   "id": "supreme-sunrise",
   "metadata": {},
   "outputs": [
    {
     "data": {
      "text/plain": [
       "<Post: 11111111111>"
      ]
     },
     "execution_count": 7,
     "metadata": {},
     "output_type": "execute_result"
    }
   ],
   "source": [
    "comment = Comment.objects.first()\n",
    "comment.post"
   ]
  },
  {
   "cell_type": "code",
   "execution_count": 9,
   "id": "responsible-cooking",
   "metadata": {},
   "outputs": [
    {
     "data": {
      "text/plain": [
       "<Post: 3333333333>"
      ]
     },
     "execution_count": 9,
     "metadata": {},
     "output_type": "execute_result"
    }
   ],
   "source": [
    "post = Post.objects.first()\n",
    "post"
   ]
  },
  {
   "cell_type": "code",
   "execution_count": 10,
   "id": "confident-township",
   "metadata": {},
   "outputs": [
    {
     "data": {
      "text/plain": [
       "<QuerySet [<Comment: Comment object (3)>]>"
      ]
     },
     "execution_count": 10,
     "metadata": {},
     "output_type": "execute_result"
    }
   ],
   "source": [
    "# reverse name\n",
    "\n",
    "# Comment.objects.filter(post_id==4)\n",
    "# Comment.objects.filter(post__id==4) 관계\n",
    "# Comment.objects.filter(post=post)\n",
    "post.comment_set.all()"
   ]
  },
  {
   "cell_type": "code",
   "execution_count": 11,
   "id": "loving-filter",
   "metadata": {},
   "outputs": [],
   "source": [
    "# related_name 충돌시\n",
    "# 이름을 바꾸거나 한쪽을 포기('+')"
   ]
  },
  {
   "cell_type": "code",
   "execution_count": 4,
   "id": "olympic-impression",
   "metadata": {},
   "outputs": [],
   "source": [
    "from accounts.models import Profile"
   ]
  },
  {
   "cell_type": "code",
   "execution_count": 5,
   "id": "broad-windows",
   "metadata": {},
   "outputs": [],
   "source": [
    "from django.contrib.auth.models import User"
   ]
  },
  {
   "cell_type": "code",
   "execution_count": 6,
   "id": "supposed-london",
   "metadata": {},
   "outputs": [],
   "source": [
    "from django.contrib.auth import get_user_model\n",
    "User = get_user_model()"
   ]
  },
  {
   "cell_type": "code",
   "execution_count": 8,
   "id": "empty-concern",
   "metadata": {},
   "outputs": [],
   "source": [
    "user = User.objects.first()"
   ]
  },
  {
   "cell_type": "code",
   "execution_count": 8,
   "id": "little-alert",
   "metadata": {},
   "outputs": [
    {
     "data": {
      "text/plain": [
       "<QuerySet [<Tag: 사과>]>"
      ]
     },
     "execution_count": 8,
     "metadata": {},
     "output_type": "execute_result"
    }
   ],
   "source": [
    "from instagram.models import Post, Comment, Tag\n",
    "post = Post.objects.last()\n",
    "post.tag_set.all()"
   ]
  },
  {
   "cell_type": "code",
   "execution_count": 11,
   "id": "entitled-karma",
   "metadata": {},
   "outputs": [
    {
     "data": {
      "text/plain": [
       "<Tag: 사과>"
      ]
     },
     "execution_count": 11,
     "metadata": {},
     "output_type": "execute_result"
    }
   ],
   "source": [
    "tag = Tag.objects.first()\n",
    "tag"
   ]
  },
  {
   "cell_type": "code",
   "execution_count": 13,
   "id": "gentle-discussion",
   "metadata": {},
   "outputs": [
    {
     "data": {
      "text/plain": [
       "<Tag: 장고>"
      ]
     },
     "execution_count": 13,
     "metadata": {},
     "output_type": "execute_result"
    }
   ],
   "source": [
    "Tag.objects.create(name='장고')"
   ]
  },
  {
   "cell_type": "code",
   "execution_count": 14,
   "id": "greatest-sport",
   "metadata": {},
   "outputs": [
    {
     "data": {
      "text/plain": [
       "<Tag: askcompany>"
      ]
     },
     "execution_count": 14,
     "metadata": {},
     "output_type": "execute_result"
    }
   ],
   "source": [
    "Tag.objects.create(name='askcompany')"
   ]
  },
  {
   "cell_type": "code",
   "execution_count": 15,
   "id": "seven-corporation",
   "metadata": {},
   "outputs": [
    {
     "data": {
      "text/plain": [
       "<QuerySet [<Tag: 사과>, <Tag: 장고>, <Tag: askcompany>]>"
      ]
     },
     "execution_count": 15,
     "metadata": {},
     "output_type": "execute_result"
    }
   ],
   "source": [
    "Tag.objects.all()"
   ]
  },
  {
   "cell_type": "code",
   "execution_count": 16,
   "id": "compressed-leadership",
   "metadata": {},
   "outputs": [],
   "source": [
    "post.tag_set.add(tag)"
   ]
  },
  {
   "cell_type": "code",
   "execution_count": 17,
   "id": "static-liberal",
   "metadata": {},
   "outputs": [],
   "source": [
    "tag_qs = Tag.objects.all()\n",
    "post.tag_set.add(*tag_qs)"
   ]
  },
  {
   "cell_type": "code",
   "execution_count": 18,
   "id": "brazilian-blanket",
   "metadata": {},
   "outputs": [
    {
     "data": {
      "text/plain": [
       "<QuerySet [<Tag: 사과>, <Tag: 장고>, <Tag: askcompany>]>"
      ]
     },
     "execution_count": 18,
     "metadata": {},
     "output_type": "execute_result"
    }
   ],
   "source": [
    "post.tag_set.all()"
   ]
  },
  {
   "cell_type": "code",
   "execution_count": null,
   "id": "early-garage",
   "metadata": {},
   "outputs": [],
   "source": []
  }
 ],
 "metadata": {
  "kernelspec": {
   "display_name": "Python 3",
   "language": "python",
   "name": "python3"
  },
  "language_info": {
   "codemirror_mode": {
    "name": "ipython",
    "version": 3
   },
   "file_extension": ".py",
   "mimetype": "text/x-python",
   "name": "python",
   "nbconvert_exporter": "python",
   "pygments_lexer": "ipython3",
   "version": "3.9.1"
  }
 },
 "nbformat": 4,
 "nbformat_minor": 5
}
